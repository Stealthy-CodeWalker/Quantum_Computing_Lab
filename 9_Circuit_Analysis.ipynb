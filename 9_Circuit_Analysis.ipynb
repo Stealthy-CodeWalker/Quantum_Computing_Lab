{
 "cells": [
  {
   "cell_type": "code",
   "execution_count": 1,
   "metadata": {},
   "outputs": [
    {
     "name": "stdout",
     "output_type": "stream",
     "text": [
      "qiskit                1.1.0\n",
      "qiskit-aer            0.14.1\n",
      "qiskit-ibm-runtime    0.23.0\n"
     ]
    }
   ],
   "source": [
    "packages = !pip list\n",
    "for x in packages:\n",
    "    if \"qiskit\" in x:\n",
    "        print(x)"
   ]
  },
  {
   "cell_type": "code",
   "execution_count": 2,
   "metadata": {},
   "outputs": [],
   "source": [
    "# Importing standard Qiskit libraries\n",
    "from qiskit import QuantumCircuit, transpile\n",
    "# from qiskit.tools.jupyter import *\n",
    "from qiskit.visualization import *\n",
    "# from ibm_quantum_widgets import *\n",
    "\n",
    "# qiskit-ibmq-provider has been deprecated.\n",
    "# Please see the Migration Guides in https://ibm.biz/provider_migration_guide for more detail.\n",
    "from qiskit_ibm_runtime import QiskitRuntimeService, Sampler, Estimator, Session, Options\n",
    "\n",
    "# Loading your IBM Quantum account(s)\n",
    "service = QiskitRuntimeService(channel=\"ibm_quantum\",token=\"e#\")\n",
    "\n",
    "# Invoke a primitive. For more details see https://docs.quantum.ibm.com/run/primitives\n",
    "# result = Sampler().run(circuits).result()"
   ]
  },
  {
   "cell_type": "code",
   "execution_count": 3,
   "metadata": {},
   "outputs": [
    {
     "name": "stdout",
     "output_type": "stream",
     "text": [
      "     ┌───┐┌───┐┌───┐┌───┐          \n",
      "q_0: ┤ H ├┤ H ├┤ H ├┤ H ├──■───────\n",
      "     └───┘└───┘└───┘└───┘┌─┴─┐┌───┐\n",
      "q_1: ────────────────────┤ X ├┤ H ├\n",
      "                         └───┘└───┘\n",
      "Circuit depth:  6\n"
     ]
    }
   ],
   "source": [
    "from qiskit import*\n",
    "qc= QuantumCircuit(2)\n",
    "qc.h(0)\n",
    "qc.h(0)\n",
    "qc.h(0)\n",
    "qc.h(0)\n",
    "qc.cx(0,1)\n",
    "qc.h(1)\n",
    "print(qc)\n",
    "print(\"Circuit depth: \",qc.depth())"
   ]
  },
  {
   "cell_type": "code",
   "execution_count": 4,
   "metadata": {},
   "outputs": [
    {
     "name": "stdout",
     "output_type": "stream",
     "text": [
      "     ┌───┐     ┌───┐     \n",
      "q_0: ┤ H ├──■──┤ H ├─────\n",
      "     └───┘┌─┴─┐├───┤     \n",
      "q_1: ─────┤ X ├┤ H ├──■──\n",
      "          └───┘└───┘┌─┴─┐\n",
      "q_2: ───────────────┤ X ├\n",
      "                    └───┘\n",
      "Circuit depth:  4\n"
     ]
    }
   ],
   "source": [
    "from qiskit import*\n",
    "qc= QuantumCircuit(3)\n",
    "qc.h(0)\n",
    "qc.cx(0,1)\n",
    "qc.h(0)\n",
    "qc.h(1)\n",
    "qc.cx(1,2)\n",
    "print(qc)\n",
    "print(\"Circuit depth: \",qc.depth())"
   ]
  },
  {
   "cell_type": "code",
   "execution_count": null,
   "metadata": {},
   "outputs": [],
   "source": []
  }
 ],
 "metadata": {
  "kernelspec": {
   "display_name": "qk_1.1",
   "language": "python",
   "name": "python3"
  },
  "language_info": {
   "codemirror_mode": {
    "name": "ipython",
    "version": 3
   },
   "file_extension": ".py",
   "mimetype": "text/x-python",
   "name": "python",
   "nbconvert_exporter": "python",
   "pygments_lexer": "ipython3",
   "version": "3.8.19"
  }
 },
 "nbformat": 4,
 "nbformat_minor": 2
}
