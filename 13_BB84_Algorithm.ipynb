{
 "cells": [
  {
   "cell_type": "code",
   "execution_count": 1,
   "metadata": {},
   "outputs": [
    {
     "name": "stdout",
     "output_type": "stream",
     "text": [
      "qiskit                1.1.0\n",
      "qiskit-aer            0.14.1\n",
      "qiskit-ibm-provider   0.11.0\n",
      "qiskit-ibm-runtime    0.24.0\n"
     ]
    }
   ],
   "source": [
    "packages = !pip list\n",
    "for x in packages:\n",
    "    if \"qiskit\" in x:\n",
    "        print(x)"
   ]
  },
  {
   "cell_type": "code",
   "execution_count": 2,
   "metadata": {},
   "outputs": [],
   "source": [
    "# Importing standard Qiskit libraries\n",
    "from qiskit import QuantumCircuit, transpile\n",
    "# from qiskit.tools.jupyter import *\n",
    "from qiskit.visualization import *\n",
    "# from ibm_quantum_widgets import *\n",
    "\n",
    "# qiskit-ibmq-provider has been deprecated.\n",
    "# Please see the Migration Guides in https://ibm.biz/provider_migration_guide for more detail.\n",
    "from qiskit_ibm_runtime import QiskitRuntimeService, Sampler, Estimator, Session, Options\n",
    "token = \"#\"\n",
    "\n",
    "# Loading your IBM Quantum account(s)\n",
    "service = QiskitRuntimeService(channel=\"ibm_quantum\",token=token)\n",
    "\n",
    "# Invoke a primitive. For more details see https://docs.quantum.ibm.com/run/primitives\n",
    "# result = Sampler().run(circuits).result()"
   ]
  },
  {
   "cell_type": "code",
   "execution_count": 3,
   "metadata": {},
   "outputs": [
    {
     "name": "stdout",
     "output_type": "stream",
     "text": [
      "The bits Alice is going to send are: 1101111110...\n"
     ]
    }
   ],
   "source": [
    "# Importing Qiskit\n",
    "from qiskit import *\n",
    "import random\n",
    "#other useful packages\n",
    "import math\n",
    "import matplotlib.pyplot as plt\n",
    "%matplotlib inline\n",
    "import numpy as np\n",
    "# Import Qiskit\n",
    "from qiskit import transpile\n",
    "from qiskit_aer import Aer\n",
    "from qiskit import QuantumCircuit, ClassicalRegister, QuantumRegister\n",
    "# Preparation for encoding\n",
    "KEY_LENGTH = 500\n",
    "# KEY_LENGTH = 300 #Doing this as IBM Public QPUs support max only 300 maximum circuits\n",
    "random.seed(0) # Seed the random number generator. This will be used as our \"coin flipper\".\n",
    "# Generating a random string of bits\n",
    "alice_bits = \"\"\n",
    "for i in range(KEY_LENGTH):\n",
    "    randBit = random.randint(0, 1) # Flip Coin\n",
    "    alice_bits += str(randBit) # Add randomly chosen bit to the bit string.\n",
    "print(\"The bits Alice is going to send are: \" + alice_bits[:10] + \"...\")"
   ]
  },
  {
   "cell_type": "code",
   "execution_count": 4,
   "metadata": {},
   "outputs": [
    {
     "name": "stdout",
     "output_type": "stream",
     "text": [
      "The bases Alice is going to encode them in are: ZXXZZZZXZX...\n"
     ]
    }
   ],
   "source": [
    "def generate_random_bases(num_of_bases):\n",
    "    \"\"\"This function selects a random basis for each bit\"\"\"\n",
    "    bases_string = \"\"\n",
    "    for i in range(num_of_bases):\n",
    "\n",
    "        randBasis = random.randint(0, 1) # Flip Coin\n",
    "        if randBasis == 0:\n",
    "            bases_string += \"Z\"\n",
    "        else:\n",
    "            bases_string += \"X\"\n",
    "    return bases_string\n",
    "alice_bases = generate_random_bases(KEY_LENGTH) # Alice randomly chooses a basis for each bit.\n",
    "print(\"The bases Alice is going to encode them in are: \" + alice_bases[:10] + \"...\")"
   ]
  },
  {
   "cell_type": "code",
   "execution_count": 5,
   "metadata": {},
   "outputs": [],
   "source": [
    "def encode(bits, bases):\n",
    "    \"\"\"This function encodes each bit into the given basis.\"\"\"\n",
    "    encoded_qubits = []\n",
    "    for bit, basis in zip(bits, bases):\n",
    "        qc = QuantumCircuit(1, 1) # Create a quantum circuit for each qubit\n",
    "        # Possible Cases\n",
    "        if bit==\"0\" and basis == \"Z\":\n",
    "            encoded_qubits.append(qc) # Do not apply any gates\n",
    "        elif bit==\"1\" and basis == \"Z\":\n",
    "            qc.x(0) # Apply X Gate\n",
    "            encoded_qubits.append(qc)\n",
    "        elif bit==\"0\" and basis == \"X\":\n",
    "            qc.h(0) # Apply H Gate\n",
    "            encoded_qubits.append(qc)\n",
    "        elif bit==\"1\" and basis == \"X\":\n",
    "            qc.x(0) # Apply X Gate\n",
    "            qc.h(0) # Apply H Gate\n",
    "            encoded_qubits.append(qc)\n",
    "    return (encoded_qubits)"
   ]
  },
  {
   "cell_type": "code",
   "execution_count": 6,
   "metadata": {},
   "outputs": [
    {
     "name": "stdout",
     "output_type": "stream",
     "text": [
      "     ┌───┐\n",
      "  q: ┤ X ├\n",
      "     └───┘\n",
      "c: 1/═════\n",
      "          \n",
      "     ┌───┐┌───┐\n",
      "  q: ┤ X ├┤ H ├\n",
      "     └───┘└───┘\n",
      "c: 1/══════════\n",
      "               \n",
      "     ┌───┐\n",
      "  q: ┤ H ├\n",
      "     └───┘\n",
      "c: 1/═════\n",
      "          \n",
      "     ┌───┐\n",
      "  q: ┤ X ├\n",
      "     └───┘\n",
      "c: 1/═════\n",
      "          \n",
      "     ┌───┐\n",
      "  q: ┤ X ├\n",
      "     └───┘\n",
      "c: 1/═════\n",
      "          \n",
      "etc.\n"
     ]
    }
   ],
   "source": [
    "# Encode Alice's bits\n",
    "encoded_qubits = encode(alice_bits, alice_bases)\n",
    "# Print circuits for first 5 qubits.\n",
    "for i in range(5):\n",
    "    print(encoded_qubits[i])\n",
    "print(\"etc.\")"
   ]
  },
  {
   "cell_type": "code",
   "execution_count": 7,
   "metadata": {},
   "outputs": [
    {
     "name": "stdout",
     "output_type": "stream",
     "text": [
      "The bases Bob is going to decode them in are: XZZXZZZXXX...\n",
      "The first few bits Bob received are: 0110111100...\n"
     ]
    }
   ],
   "source": [
    "QUANTUM_CHANNEL = encoded_qubits\n",
    "bob_bases = generate_random_bases(KEY_LENGTH) # Bob randomly chooses a basis for each bit.\n",
    "print(\"The bases Bob is going to decode them in are: \" + bob_bases[:10] + \"...\")\n",
    "\n",
    "def measure(qubits, bases):\n",
    "    \"\"\"This function measures each qubit in the corresponding basis chosen for it.\"\"\"\n",
    "    bits = \"\" # The results of measurements\n",
    "    for qubit, basis in zip(qubits, bases):\n",
    "        # Add measurement depending on basis\n",
    "\n",
    "        if basis == \"Z\":\n",
    "            qubit.measure(0, 0)\n",
    "        elif basis == \"X\":\n",
    "            qubit.h(0)\n",
    "            qubit.measure(0, 0)\n",
    "        # Execute on Simulator\n",
    "        simulator = Aer.get_backend('qasm_simulator')\n",
    "        result = simulator.run(qubit,shots=1).result()\n",
    "        counts = result.get_counts()\n",
    "        measured_bit = max(counts, key=counts.get) # Max doesn't matter for simulator   since there is only one shot.\n",
    "        bits += measured_bit\n",
    "    return bits\n",
    "\n",
    "qubits_received = QUANTUM_CHANNEL # Receive qubits from quantum channel\n",
    "bob_bits = measure(qubits_received, bob_bases)\n",
    "print(\"The first few bits Bob received are: \" + bob_bits[:10] + \"...\")"
   ]
  },
  {
   "cell_type": "code",
   "execution_count": 8,
   "metadata": {},
   "outputs": [
    {
     "name": "stdout",
     "output_type": "stream",
     "text": [
      "The indices of the first 10 bases they share in common are: [4, 5, 6, 7, 9, 10, 11, 19, 22, 24]\n",
      "Yep, Alice and Bob seem to have the same bits!\n"
     ]
    }
   ],
   "source": [
    "CLASSICAL_CHANNEL = alice_bases # Alice tells Bob which bases she used\n",
    "# Store the indices of the bases they share in common\n",
    "common_bases = [i for i in range(KEY_LENGTH) if\n",
    "CLASSICAL_CHANNEL[i]==bob_bases[i]]\n",
    "print(\"The indices of the first 10 bases they share in common are: \" +\n",
    "str(common_bases[:10]))\n",
    "bob_bits = [bob_bits[index] for index in common_bases]\n",
    "CLASSICAL_CHANNEL = common_bases # Bob tells Alice which bases they shared in common\n",
    "alice_bits = [alice_bits[index] for index in common_bases] # Alice keeps only the bits they shared in common\n",
    "\n",
    "CLASSICAL_CHANNEL = alice_bits[:100] # Alice tells Bob the first 100 bits she has left.\n",
    "# Bob checks if they match the first 100 bits that he has\n",
    "if CLASSICAL_CHANNEL == bob_bits[:100]:\n",
    "    print(\"Yep, Alice and Bob seem to have the same bits!\")\n",
    "else:\n",
    "    print(\"Uh oh, at least one of the bits is different.\")"
   ]
  },
  {
   "cell_type": "code",
   "execution_count": 9,
   "metadata": {},
   "outputs": [
    {
     "name": "stdout",
     "output_type": "stream",
     "text": [
      "Shhhhh, the key is:\n",
      "010101101001011110110100011011001100000111010101000101011101001000110101100111101001101010000111000111000011001110100100000\n",
      "Don't tell anyone!\n",
      "\n",
      "The key is 123 bits long.\n"
     ]
    }
   ],
   "source": [
    "alice_bits = alice_bits[100:] # Alice discards the first 100 bits\n",
    "bob_bits = bob_bits[100:] # Alice discards the first 100 bits\n",
    "key = \"\"\n",
    "for bit in alice_bits: # Or bob_bits, since both should be the same\n",
    "    key += bit\n",
    "print(\"Shhhhh, the key is:\")\n",
    "print(str(key))\n",
    "print(\"Don't tell anyone!\")\n",
    "print(\"\\nThe key is \" + str(len(key)) + \" bits long.\")"
   ]
  },
  {
   "cell_type": "code",
   "execution_count": 10,
   "metadata": {},
   "outputs": [
    {
     "name": "stdout",
     "output_type": "stream",
     "text": [
      "Uh oh, at least one of the bits is different.\n"
     ]
    }
   ],
   "source": [
    "# Generating a random string of bits\n",
    "alice_bits = \"\"\n",
    "for i in range(KEY_LENGTH):\n",
    "    randBit = random.randint(0, 1) # Flip Coin\n",
    "    alice_bits += str(randBit) # Add randomly chosen bit to the bit string.\n",
    "# Alice randomly chooses a basis for each bit.\n",
    "\n",
    "alice_bases = generate_random_bases(KEY_LENGTH)\n",
    "# Encode Alice's bits\n",
    "encoded_qubits = encode(alice_bits, alice_bases)\n",
    "QUANTUM_CHANNEL = encoded_qubits\n",
    "qubits_intercepted = QUANTUM_CHANNEL # Intercept qubits\n",
    "eve_bases = generate_random_bases(KEY_LENGTH) # Generate a random set of \n",
    "eve_bits = measure(qubits_intercepted, eve_bases) # Measure the qubits\n",
    "# Eve encodes her decoy qubits and sends them along the quantum channel\n",
    "QUANTUM_CHANNEL = encode(eve_bits, eve_bases)\n",
    "bob_bases = generate_random_bases(KEY_LENGTH) # Bob randomly chooses a basis for each bit.\n",
    "qubits_received = QUANTUM_CHANNEL # Receive qubits from quantum channel\n",
    "bob_bits = measure(qubits_received, bob_bases)\n",
    "CLASSICAL_CHANNEL = alice_bases # Alice tells Bob which bases she used\n",
    "# Store the indices of the bases they share in common\n",
    "common_bases = [i for i in range(KEY_LENGTH) if\n",
    "CLASSICAL_CHANNEL[i]==bob_bases[i]]\n",
    "bob_bits = [bob_bits[index] for index in common_bases]\n",
    "\n",
    "CLASSICAL_CHANNEL = common_bases # Bob tells Alice which bases they shared in common\n",
    "alice_bits = [alice_bits[index] for index in common_bases] # Alice keeps only the bits they shared in common\n",
    "CLASSICAL_CHANNEL = alice_bits[:100] # Alice tells Bob the first 100 bits she has left.\n",
    "# Bob checks if they match the first 100 bits that he has\n",
    "if CLASSICAL_CHANNEL == bob_bits[:100]:\n",
    "    print(\"Yep, Alice and Bob seem to have the same bits!\")\n",
    "else:\n",
    "    print(\"Uh oh, at least one of the bits is different.\")"
   ]
  },
  {
   "cell_type": "markdown",
   "metadata": {},
   "source": [
    "# IBM QPU"
   ]
  },
  {
   "cell_type": "code",
   "execution_count": null,
   "metadata": {},
   "outputs": [],
   "source": [
    "QUANTUM_CHANNEL = encoded_qubits\n",
    "bob_bases = generate_random_bases(KEY_LENGTH) # Bob randomly chooses a basis for each bit.\n",
    "print(\"The bases Bob is going to decode them in are: \" + bob_bases[:10] + \"...\")\n",
    "\n",
    "from qiskit_ibm_provider import IBMProvider\n",
    "IBMProvider.save_account(token, overwrite=True)\n",
    "provider = IBMProvider()\n",
    "list = provider.backends()\n",
    "l = service.least_busy()\n",
    "backend = provider.get_backend(l.name)\n",
    "\n",
    "print(\"backends available: \", list)\n",
    "def measure(qubits, bases):\n",
    "    \"\"\"This function measures each qubit in the corresponding basis chosen for it.\"\"\"\n",
    "    bits = \"\" # The results of measurements\n",
    "    for qubit, basis in zip(qubits, bases):\n",
    "        # Add measurement depending on basis\n",
    "\n",
    "        if basis == \"Z\":\n",
    "            qubit.measure(0, 0)\n",
    "        elif basis == \"X\":\n",
    "            qubit.h(0)\n",
    "            qubit.measure(0, 0)\n",
    "        # Execute on Simulator\n",
    "        qubit = transpile(qubits,backend,optimization_level=3)\n",
    "        job = backend.run(qubit,shots = 1)\n",
    "        result = job.result()\n",
    "        print(result)\n",
    "    #     counts = result.get_counts()\n",
    "    #     measured_bit = max(counts, key=counts.get) # Max doesn't matter for simulator   since there is only one shot.\n",
    "    #     bits += measured_bit\n",
    "    # return bits\n",
    "    return result\n",
    "qubits_received = QUANTUM_CHANNEL # Receive qubits from quantum channel\n",
    "# bob_bits = measure(qubits_received, bob_bases)\n",
    "result = measure(qubits_received, bob_bases)\n",
    "# print(\"The first few bits Bob received are: \" + bob_bits[:10] + \"...\")"
   ]
  },
  {
   "cell_type": "code",
   "execution_count": null,
   "metadata": {},
   "outputs": [],
   "source": []
  },
  {
   "cell_type": "code",
   "execution_count": null,
   "metadata": {},
   "outputs": [],
   "source": [
    "CLASSICAL_CHANNEL = alice_bases # Alice tells Bob which bases she used\n",
    "# Store the indices of the bases they share in common\n",
    "common_bases = [i for i in range(KEY_LENGTH) if\n",
    "CLASSICAL_CHANNEL[i]==bob_bases[i]]\n",
    "print(\"The indices of the first 10 bases they share in common are: \" +\n",
    "str(common_bases[:10]))\n",
    "bob_bits = [bob_bits[index] for index in common_bases]\n",
    "CLASSICAL_CHANNEL = common_bases # Bob tells Alice which bases they shared in common\n",
    "alice_bits = [alice_bits[index] for index in common_bases] # Alice keeps only the bits they shared in common\n",
    "\n",
    "CLASSICAL_CHANNEL = alice_bits[:100] # Alice tells Bob the first 100 bits she has left.\n",
    "# Bob checks if they match the first 100 bits that he has\n",
    "if CLASSICAL_CHANNEL == bob_bits[:100]:\n",
    "    print(\"Yep, Alice and Bob seem to have the same bits!\")\n",
    "else:\n",
    "    print(\"Uh oh, at least one of the bits is different.\")"
   ]
  },
  {
   "cell_type": "code",
   "execution_count": null,
   "metadata": {},
   "outputs": [],
   "source": [
    "alice_bits = alice_bits[100:] # Alice discards the first 100 bits\n",
    "bob_bits = bob_bits[100:] # Alice discards the first 100 bits\n",
    "key = \"\"\n",
    "for bit in alice_bits: # Or bob_bits, since both should be the same\n",
    "    key += bit\n",
    "print(\"Shhhhh, the key is:\")\n",
    "print(str(key))\n",
    "print(\"Don't tell anyone!\")\n",
    "print(\"\\nThe key is \" + str(len(key)) + \" bits long.\")"
   ]
  },
  {
   "cell_type": "code",
   "execution_count": null,
   "metadata": {},
   "outputs": [],
   "source": [
    "# Generating a random string of bits\n",
    "alice_bits = \"\"\n",
    "for i in range(KEY_LENGTH):\n",
    "    randBit = random.randint(0, 1) # Flip Coin\n",
    "    alice_bits += str(randBit) # Add randomly chosen bit to the bit string.\n",
    "# Alice randomly chooses a basis for each bit.\n",
    "\n",
    "alice_bases = generate_random_bases(KEY_LENGTH)\n",
    "# Encode Alice's bits\n",
    "encoded_qubits = encode(alice_bits, alice_bases)\n",
    "QUANTUM_CHANNEL = encoded_qubits\n",
    "qubits_intercepted = QUANTUM_CHANNEL # Intercept qubits\n",
    "eve_bases = generate_random_bases(KEY_LENGTH) # Generate a random set of \n",
    "eve_bits = measure(qubits_intercepted, eve_bases) # Measure the qubits\n",
    "# Eve encodes her decoy qubits and sends them along the quantum channel\n",
    "QUANTUM_CHANNEL = encode(eve_bits, eve_bases)\n",
    "bob_bases = generate_random_bases(KEY_LENGTH) # Bob randomly chooses a basis for each bit.\n",
    "qubits_received = QUANTUM_CHANNEL # Receive qubits from quantum channel\n",
    "bob_bits = measure(qubits_received, bob_bases)\n",
    "CLASSICAL_CHANNEL = alice_bases # Alice tells Bob which bases she used\n",
    "# Store the indices of the bases they share in common\n",
    "common_bases = [i for i in range(KEY_LENGTH) if\n",
    "CLASSICAL_CHANNEL[i]==bob_bases[i]]\n",
    "bob_bits = [bob_bits[index] for index in common_bases]\n",
    "\n",
    "CLASSICAL_CHANNEL = common_bases # Bob tells Alice which bases they shared in common\n",
    "alice_bits = [alice_bits[index] for index in common_bases] # Alice keeps only the bits they shared in common\n",
    "CLASSICAL_CHANNEL = alice_bits[:100] # Alice tells Bob the first 100 bits she has left.\n",
    "# Bob checks if they match the first 100 bits that he has\n",
    "if CLASSICAL_CHANNEL == bob_bits[:100]:\n",
    "    print(\"Yep, Alice and Bob seem to have the same bits!\")\n",
    "else:\n",
    "    print(\"Uh oh, at least one of the bits is different.\")"
   ]
  }
 ],
 "metadata": {
  "kernelspec": {
   "display_name": "qk_1.1_2",
   "language": "python",
   "name": "python3"
  },
  "language_info": {
   "codemirror_mode": {
    "name": "ipython",
    "version": 3
   },
   "file_extension": ".py",
   "mimetype": "text/x-python",
   "name": "python",
   "nbconvert_exporter": "python",
   "pygments_lexer": "ipython3",
   "version": "3.8.19"
  }
 },
 "nbformat": 4,
 "nbformat_minor": 2
}
